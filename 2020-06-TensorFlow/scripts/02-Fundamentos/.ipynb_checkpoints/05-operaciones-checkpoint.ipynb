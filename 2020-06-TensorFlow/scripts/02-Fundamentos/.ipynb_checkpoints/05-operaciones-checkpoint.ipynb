{
 "cells": [
  {
   "cell_type": "markdown",
   "metadata": {},
   "source": [
    "# Operaciones con TensorFlow"
   ]
  },
  {
   "cell_type": "code",
   "execution_count": 1,
   "metadata": {},
   "outputs": [
    {
     "name": "stdout",
     "output_type": "stream",
     "text": [
      "WARNING:tensorflow:From c:\\users\\lncostam\\appdata\\local\\programs\\python\\python37\\lib\\site-packages\\tensorflow\\python\\compat\\v2_compat.py:96: disable_resource_variables (from tensorflow.python.ops.variable_scope) is deprecated and will be removed in a future version.\n",
      "Instructions for updating:\n",
      "non-resource variables are not supported in the long term\n"
     ]
    }
   ],
   "source": [
    "# import tensorflow as tf2\n",
    "\n",
    "# Para que funcione con la version 2 instalada\n",
    "import tensorflow.compat.v1 as tf\n",
    "tf.disable_v2_behavior()\n",
    "session = tf.Session()"
   ]
  },
  {
   "cell_type": "markdown",
   "metadata": {},
   "source": [
    "### Operaciones aritméticas"
   ]
  },
  {
   "cell_type": "code",
   "execution_count": 2,
   "metadata": {},
   "outputs": [],
   "source": [
    "x = 3\n",
    "y = 4"
   ]
  },
  {
   "cell_type": "code",
   "execution_count": 3,
   "metadata": {},
   "outputs": [
    {
     "name": "stdout",
     "output_type": "stream",
     "text": [
      "7\n"
     ]
    }
   ],
   "source": [
    "# Suma\n",
    "print(session.run(tf.add(x,y)))"
   ]
  },
  {
   "cell_type": "code",
   "execution_count": 4,
   "metadata": {},
   "outputs": [
    {
     "name": "stdout",
     "output_type": "stream",
     "text": [
      "-1\n"
     ]
    }
   ],
   "source": [
    "# Resta\n",
    "print(session.run(tf.subtract(x,y)))"
   ]
  },
  {
   "cell_type": "code",
   "execution_count": 10,
   "metadata": {},
   "outputs": [
    {
     "name": "stdout",
     "output_type": "stream",
     "text": [
      "12\n"
     ]
    }
   ],
   "source": [
    "# Multiplicacion\n",
    "print(session.run(tf.multiply(x,y)))"
   ]
  },
  {
   "cell_type": "code",
   "execution_count": 6,
   "metadata": {},
   "outputs": [
    {
     "name": "stdout",
     "output_type": "stream",
     "text": [
      "0\n"
     ]
    }
   ],
   "source": [
    "# Division\n",
    "# Div hara la division en base a los tipos de datos de entrada, recibo entero y devuelvo entero\n",
    "print(session.run(tf.div(x,y)))"
   ]
  },
  {
   "cell_type": "code",
   "execution_count": 7,
   "metadata": {},
   "outputs": [
    {
     "name": "stdout",
     "output_type": "stream",
     "text": [
      "0.75\n"
     ]
    }
   ],
   "source": [
    "# Division verdadera\n",
    "print(session.run(tf.truediv(x,y)))"
   ]
  },
  {
   "cell_type": "code",
   "execution_count": 8,
   "metadata": {},
   "outputs": [
    {
     "name": "stdout",
     "output_type": "stream",
     "text": [
      "2.0\n"
     ]
    }
   ],
   "source": [
    "# Division redondeada\n",
    "print(session.run(tf.floordiv(7.0,3.0)))"
   ]
  },
  {
   "cell_type": "code",
   "execution_count": 9,
   "metadata": {},
   "outputs": [
    {
     "name": "stdout",
     "output_type": "stream",
     "text": [
      "3.0\n"
     ]
    }
   ],
   "source": [
    "# Resto de la division entera (modulo)\n",
    "print(session.run(tf.mod(23.0, 5.0)))"
   ]
  },
  {
   "cell_type": "code",
   "execution_count": 13,
   "metadata": {},
   "outputs": [
    {
     "name": "stdout",
     "output_type": "stream",
     "text": [
      "[0. 0. 1.]\n"
     ]
    }
   ],
   "source": [
    "# producto cruzado de 2 tensores, multiplico coordenada a coordenada\n",
    "print(session.run(tf.cross([1.0,0.,0.], [0.,1.,0.])))"
   ]
  },
  {
   "cell_type": "markdown",
   "metadata": {},
   "source": [
    "## Funciones matemáticas"
   ]
  },
  {
   "cell_type": "code",
   "execution_count": 14,
   "metadata": {},
   "outputs": [],
   "source": [
    "x = [-3.,-2.,-1.,0.,1.,2.]"
   ]
  },
  {
   "cell_type": "code",
   "execution_count": 25,
   "metadata": {},
   "outputs": [
    {
     "name": "stdout",
     "output_type": "stream",
     "text": [
      "[3. 2. 1. 0. 1. 2.]\n"
     ]
    }
   ],
   "source": [
    "# Valor absoluto, negativo -> positivo y positivo queda igual\n",
    "print(session.run(tf.abs(x)))"
   ]
  },
  {
   "cell_type": "code",
   "execution_count": 15,
   "metadata": {},
   "outputs": [
    {
     "name": "stdout",
     "output_type": "stream",
     "text": [
      "7.0\n"
     ]
    }
   ],
   "source": [
    "# redondeo hacia arriba \n",
    "print(session.run(tf.ceil(6.4)))"
   ]
  },
  {
   "cell_type": "code",
   "execution_count": 16,
   "metadata": {},
   "outputs": [
    {
     "name": "stdout",
     "output_type": "stream",
     "text": [
      "6.0\n"
     ]
    }
   ],
   "source": [
    "# redondeo hacia abajo\n",
    "print(session.run(tf.floor(6.4)))"
   ]
  },
  {
   "cell_type": "code",
   "execution_count": 30,
   "metadata": {},
   "outputs": [
    {
     "name": "stdout",
     "output_type": "stream",
     "text": [
      "7.0\n"
     ]
    }
   ],
   "source": [
    "# redondeo \n",
    "print(session.run(tf.round(6.6)))"
   ]
  },
  {
   "cell_type": "code",
   "execution_count": 31,
   "metadata": {},
   "outputs": [
    {
     "name": "stdout",
     "output_type": "stream",
     "text": [
      "[-0.14112    -0.9092974  -0.84147096  0.          0.84147096  0.9092974 ]\n"
     ]
    }
   ],
   "source": [
    "# Seno\n",
    "print(session.run(tf.sin(x)))"
   ]
  },
  {
   "cell_type": "code",
   "execution_count": 32,
   "metadata": {},
   "outputs": [
    {
     "name": "stdout",
     "output_type": "stream",
     "text": [
      "[-0.9899925  -0.41614684  0.5403023   1.          0.5403023  -0.41614684]\n"
     ]
    }
   ],
   "source": [
    "# Coseno\n",
    "print(session.run(tf.cos(x)))"
   ]
  },
  {
   "cell_type": "code",
   "execution_count": 33,
   "metadata": {},
   "outputs": [
    {
     "name": "stdout",
     "output_type": "stream",
     "text": [
      "[ 0.14254655  2.1850398  -1.5574077   0.          1.5574077  -2.1850398 ]\n"
     ]
    }
   ],
   "source": [
    "# Tangente\n",
    "print(session.run(tf.tan(x)))"
   ]
  },
  {
   "cell_type": "code",
   "execution_count": 34,
   "metadata": {},
   "outputs": [
    {
     "name": "stdout",
     "output_type": "stream",
     "text": [
      "[0.04978707 0.13533528 0.36787945 1.         2.7182817  7.389056  ]\n"
     ]
    }
   ],
   "source": [
    "# exponencial de los logaritmos, e^x\n",
    "print(session.run(tf.exp(x)))"
   ]
  },
  {
   "cell_type": "code",
   "execution_count": 35,
   "metadata": {},
   "outputs": [
    {
     "name": "stdout",
     "output_type": "stream",
     "text": [
      "[      nan       nan       nan      -inf 0.        0.6931472]\n"
     ]
    }
   ],
   "source": [
    "# logaritmo neperiano\n",
    "print(session.run(tf.log(x)))"
   ]
  },
  {
   "cell_type": "code",
   "execution_count": 39,
   "metadata": {},
   "outputs": [],
   "source": [
    "y = [4., 3., 7., -4., -3., 7.]"
   ]
  },
  {
   "cell_type": "code",
   "execution_count": 40,
   "metadata": {},
   "outputs": [
    {
     "name": "stdout",
     "output_type": "stream",
     "text": [
      "[4. 3. 7. 0. 1. 7.]\n"
     ]
    }
   ],
   "source": [
    "# Maximos\n",
    "print(session.run(tf.maximum(x,y)))"
   ]
  },
  {
   "cell_type": "code",
   "execution_count": 41,
   "metadata": {},
   "outputs": [
    {
     "name": "stdout",
     "output_type": "stream",
     "text": [
      "[-3. -2. -1. -4. -3.  2.]\n"
     ]
    }
   ],
   "source": [
    "# Minimos\n",
    "print(session.run(tf.minimum(x,y)))"
   ]
  },
  {
   "cell_type": "code",
   "execution_count": 42,
   "metadata": {},
   "outputs": [
    {
     "name": "stdout",
     "output_type": "stream",
     "text": [
      "[ 3.  2.  1. -0. -1. -2.]\n"
     ]
    }
   ],
   "source": [
    "# todo * -1\n",
    "print(session.run(tf.negative(x)))"
   ]
  },
  {
   "cell_type": "code",
   "execution_count": 43,
   "metadata": {},
   "outputs": [
    {
     "name": "stdout",
     "output_type": "stream",
     "text": [
      "[ 81.  -8.  -1.  inf   1. 128.]\n"
     ]
    }
   ],
   "source": [
    "# potencia de tensor sobre otro tensor, x ^ y\n",
    "print(session.run(tf.pow(x, y)))"
   ]
  },
  {
   "cell_type": "code",
   "execution_count": 45,
   "metadata": {},
   "outputs": [
    {
     "name": "stdout",
     "output_type": "stream",
     "text": [
      "[      nan       nan       nan 0.        1.        1.4142135]\n"
     ]
    }
   ],
   "source": [
    "# raiz cuadrada\n",
    "print(session.run(tf.sqrt(x)))"
   ]
  },
  {
   "cell_type": "code",
   "execution_count": 46,
   "metadata": {},
   "outputs": [
    {
     "name": "stdout",
     "output_type": "stream",
     "text": [
      "[       nan        nan        nan        inf 1.         0.70710677]\n"
     ]
    }
   ],
   "source": [
    "# 1/razi cuadrada\n",
    "print(session.run(tf.rsqrt(x)))"
   ]
  },
  {
   "cell_type": "code",
   "execution_count": 48,
   "metadata": {},
   "outputs": [
    {
     "name": "stdout",
     "output_type": "stream",
     "text": [
      "[9. 4. 1. 0. 1. 4.]\n"
     ]
    }
   ],
   "source": [
    "# cuadrado de los numeros del tensor\n",
    "print(session.run(tf.square(x)))"
   ]
  },
  {
   "cell_type": "code",
   "execution_count": 49,
   "metadata": {},
   "outputs": [
    {
     "name": "stdout",
     "output_type": "stream",
     "text": [
      "[-1. -1. -1.  0.  1.  1.]\n"
     ]
    }
   ],
   "source": [
    "# el signo del valor:\n",
    "# -1 -> negativo\n",
    "# 0 -> cero\n",
    "# 1 -> positivo\n",
    "print(session.run(tf.sign(x)))"
   ]
  },
  {
   "cell_type": "markdown",
   "metadata": {},
   "source": [
    "## Otras funciones"
   ]
  },
  {
   "cell_type": "code",
   "execution_count": 50,
   "metadata": {},
   "outputs": [
    {
     "name": "stdout",
     "output_type": "stream",
     "text": [
      "[       inf        inf        inf        inf -0.5772159  0.4227842]\n"
     ]
    }
   ],
   "source": [
    "# Funciones de Machine learning\n",
    "print(session.run(tf.digamma(x)))"
   ]
  },
  {
   "cell_type": "code",
   "execution_count": 52,
   "metadata": {},
   "outputs": [
    {
     "name": "stdout",
     "output_type": "stream",
     "text": [
      "nan\n"
     ]
    }
   ],
   "source": [
    "print(session.run(tf.lbeta(x)))"
   ]
  },
  {
   "cell_type": "code",
   "execution_count": 53,
   "metadata": {},
   "outputs": [
    {
     "name": "stdout",
     "output_type": "stream",
     "text": [
      "[inf inf inf inf  0.  0.]\n"
     ]
    }
   ],
   "source": [
    "print(session.run(tf.lgamma(x)))"
   ]
  },
  {
   "cell_type": "code",
   "execution_count": 54,
   "metadata": {},
   "outputs": [
    {
     "name": "stdout",
     "output_type": "stream",
     "text": [
      "[-0.9999779 -0.9953223 -0.8427008  0.         0.8427008  0.9953223]\n"
     ]
    }
   ],
   "source": [
    "print(session.run(tf.erf(x)))"
   ]
  },
  {
   "cell_type": "code",
   "execution_count": 55,
   "metadata": {},
   "outputs": [
    {
     "name": "stdout",
     "output_type": "stream",
     "text": [
      "[1.999978   1.9953222  1.8427008  1.         0.1572992  0.00467773]\n"
     ]
    }
   ],
   "source": [
    "print(session.run(tf.erfc(x)))"
   ]
  },
  {
   "cell_type": "code",
   "execution_count": 17,
   "metadata": {},
   "outputs": [
    {
     "name": "stdout",
     "output_type": "stream",
     "text": [
      "[49. 36. 25. 16.  9.  4.]\n"
     ]
    }
   ],
   "source": [
    "# suma cuadrado de las diferencias\n",
    "print(session.run(tf.squared_difference(x,y)))"
   ]
  },
  {
   "cell_type": "code",
   "execution_count": 18,
   "metadata": {},
   "outputs": [
    {
     "name": "stdout",
     "output_type": "stream",
     "text": [
      "1.0\n"
     ]
    }
   ],
   "source": [
    "print(session.run(tf.tan(3.14159265/4.)))"
   ]
  },
  {
   "cell_type": "markdown",
   "metadata": {},
   "source": [
    "## Funciones propias"
   ]
  },
  {
   "cell_type": "markdown",
   "metadata": {},
   "source": [
    "$$y = 5x^2-7x+15$$"
   ]
  },
  {
   "cell_type": "code",
   "execution_count": 59,
   "metadata": {},
   "outputs": [],
   "source": [
    "# Calculo de una parabola, la debemos componer nosotros\n",
    "def custom_parabola(value):\n",
    "    return tf.subtract(5*tf.square(value), 7*value)+15"
   ]
  },
  {
   "cell_type": "code",
   "execution_count": 60,
   "metadata": {},
   "outputs": [
    {
     "name": "stdout",
     "output_type": "stream",
     "text": [
      "105\n"
     ]
    }
   ],
   "source": [
    "print(session.run(custom_parabola(5)))"
   ]
  }
 ],
 "metadata": {
  "kernelspec": {
   "display_name": "Python 3",
   "language": "python",
   "name": "python3"
  },
  "language_info": {
   "codemirror_mode": {
    "name": "ipython",
    "version": 3
   },
   "file_extension": ".py",
   "mimetype": "text/x-python",
   "name": "python",
   "nbconvert_exporter": "python",
   "pygments_lexer": "ipython3",
   "version": "3.7.6"
  }
 },
 "nbformat": 4,
 "nbformat_minor": 2
}
