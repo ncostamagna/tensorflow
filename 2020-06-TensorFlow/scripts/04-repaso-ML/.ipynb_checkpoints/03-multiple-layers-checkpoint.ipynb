{
 "cells": [
  {
   "cell_type": "markdown",
   "metadata": {},
   "source": [
    "# Trabajar con múltiples capas"
   ]
  },
  {
   "cell_type": "code",
   "execution_count": 1,
   "metadata": {},
   "outputs": [
    {
     "name": "stdout",
     "output_type": "stream",
     "text": [
      "WARNING:tensorflow:From c:\\users\\lncostam\\appdata\\local\\programs\\python\\python37\\lib\\site-packages\\tensorflow\\python\\compat\\v2_compat.py:96: disable_resource_variables (from tensorflow.python.ops.variable_scope) is deprecated and will be removed in a future version.\n",
      "Instructions for updating:\n",
      "non-resource variables are not supported in the long term\n"
     ]
    }
   ],
   "source": [
    "#import tensorflow as tf\n",
    "\n",
    "# Para que funcione con la version 2 instalada\n",
    "import tensorflow.compat.v1 as tf\n",
    "tf.disable_v2_behavior() \n",
    "\n",
    "import numpy as np\n",
    "session = tf.Session()"
   ]
  },
  {
   "cell_type": "code",
   "execution_count": 2,
   "metadata": {},
   "outputs": [
    {
     "data": {
      "text/plain": [
       "array([[[[0.61865139],\n",
       "         [0.83287203],\n",
       "         [0.81022501],\n",
       "         [0.28162705]],\n",
       "\n",
       "        [[0.13420593],\n",
       "         [0.96993321],\n",
       "         [0.74251861],\n",
       "         [0.08578612]],\n",
       "\n",
       "        [[0.94483724],\n",
       "         [0.52723008],\n",
       "         [0.31192003],\n",
       "         [0.79005195]],\n",
       "\n",
       "        [[0.04689531],\n",
       "         [0.61259709],\n",
       "         [0.19779605],\n",
       "         [0.89172917]]]])"
      ]
     },
     "execution_count": 2,
     "metadata": {},
     "output_type": "execute_result"
    }
   ],
   "source": [
    "# Vamos a representar una imagen, se definen por 4 dimensiones (numero imagen, alto, ancho, capa RGB)\n",
    "x_shape = [1, 4, 4, 1] # como definimos numero imagen y capa en uno va a generar M4x4\n",
    "x_val = np.random.uniform(size=x_shape)\n",
    "x_val"
   ]
  },
  {
   "cell_type": "code",
   "execution_count": 3,
   "metadata": {},
   "outputs": [],
   "source": [
    "x_data = tf.placeholder(tf.float32, shape=x_shape)"
   ]
  },
  {
   "cell_type": "code",
   "execution_count": 9,
   "metadata": {},
   "outputs": [],
   "source": [
    "# le defino 0.25 porque va a ser el promedio, (0.25 * 4) = 1, la cantidad de vreces que se va a mover\n",
    "my_filter = tf.constant(0.25, shape = [2,2,1,1])\n",
    "\n",
    "# las veces que se va a mover el kernel en la fila de una operacion a la siguiente,\n",
    "# en este caso sera de a 2 columnas, el cuadradito seria de 2x2,\n",
    "# me va a reducir la matriz a la mitad\n",
    "my_strides = [1, 2, 2, 1] \n",
    "\n",
    "# Vamos a usan convolution en 2d, y filtramos acorde a ello\n",
    "mov_avg_layer = tf.nn.conv2d(x_data, my_filter, my_strides, padding='SAME', name = \"Moving_Avg_Windows\")"
   ]
  },
  {
   "cell_type": "markdown",
   "metadata": {},
   "source": [
    "Formula para visualizacion la salida de la convolucion\n",
    "\n",
    "$$\\frac{W-F+2P}{S}+1$$\n",
    "- W: dimensión de entrada\n",
    "- F: dimensión del filtro\n",
    "- P: padding\n",
    "- S: stride"
   ]
  },
  {
   "cell_type": "code",
   "execution_count": 5,
   "metadata": {},
   "outputs": [],
   "source": [
    "# Hace algo parecido a la funcion convolution con Ax+b y aplico sigmoide, una capa castomizada\n",
    "def custom_layer(input_matrix):\n",
    "    # squeeze -> puedo borrar las dimensiones extras, las que tenian uno\n",
    "    input_matrix_squeezed = tf.squeeze(input_matrix)\n",
    "    A = tf.constant([[1.,2.],[3.,4]])\n",
    "    b = tf.constant(1., shape = [2,2])\n",
    "    temp1 = tf.matmul(A, input_matrix_squeezed)\n",
    "    temp2 = tf.add(temp1, b) ## Ax+b\n",
    "    return tf.sigmoid(temp2)"
   ]
  },
  {
   "cell_type": "code",
   "execution_count": 6,
   "metadata": {},
   "outputs": [],
   "source": [
    "with tf.name_scope('Custom_Layer') as scope:\n",
    "    customlayer1 = custom_layer(mov_avg_layer)"
   ]
  },
  {
   "cell_type": "code",
   "execution_count": 10,
   "metadata": {},
   "outputs": [
    {
     "name": "stdout",
     "output_type": "stream",
     "text": [
      "[[0.9373031 0.9292869]\n",
      " [0.9936208 0.9903549]]\n"
     ]
    }
   ],
   "source": [
    "# genera un archivo, para visualizarlo debo ejecutarlo por consola\n",
    "#  tensorboard --logdir = 'multiple-layers'\n",
    "# en nuestro caso genera error porque debemos instalar la version 1 de tensorboard\n",
    "writer = tf.summary.FileWriter(\"multiple-layers\", session.graph)\n",
    "print(session.run(customlayer1, feed_dict={x_data: x_val}))\n",
    "writer.close()"
   ]
  },
  {
   "cell_type": "code",
   "execution_count": 8,
   "metadata": {},
   "outputs": [
    {
     "name": "stdout",
     "output_type": "stream",
     "text": [
      "[[[[0.63891566]\n",
      "   [0.4800392 ]]\n",
      "\n",
      "  [[0.53288996]\n",
      "   [0.5478743 ]]]]\n"
     ]
    }
   ],
   "source": [
    "print(session.run(mov_avg_layer, feed_dict={x_data: x_val}))"
   ]
  },
  {
   "cell_type": "code",
   "execution_count": null,
   "metadata": {},
   "outputs": [],
   "source": []
  }
 ],
 "metadata": {
  "kernelspec": {
   "display_name": "Python 3",
   "language": "python",
   "name": "python3"
  },
  "language_info": {
   "codemirror_mode": {
    "name": "ipython",
    "version": 3
   },
   "file_extension": ".py",
   "mimetype": "text/x-python",
   "name": "python",
   "nbconvert_exporter": "python",
   "pygments_lexer": "ipython3",
   "version": "3.7.6"
  }
 },
 "nbformat": 4,
 "nbformat_minor": 2
}
