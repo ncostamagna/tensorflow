{
 "cells": [
  {
   "cell_type": "markdown",
   "metadata": {},
   "source": [
    "# Operaciones por capas"
   ]
  },
  {
   "cell_type": "code",
   "execution_count": 1,
   "metadata": {},
   "outputs": [
    {
     "name": "stdout",
     "output_type": "stream",
     "text": [
      "WARNING:tensorflow:From c:\\users\\lncostam\\appdata\\local\\programs\\python\\python37\\lib\\site-packages\\tensorflow\\python\\compat\\v2_compat.py:96: disable_resource_variables (from tensorflow.python.ops.variable_scope) is deprecated and will be removed in a future version.\n",
      "Instructions for updating:\n",
      "non-resource variables are not supported in the long term\n"
     ]
    }
   ],
   "source": [
    "#import tensorflow as tf\n",
    "\n",
    "# Para que funcione con la version 2 instalada\n",
    "import tensorflow.compat.v1 as tf\n",
    "tf.disable_v2_behavior() \n",
    "session = tf.Session()"
   ]
  },
  {
   "cell_type": "markdown",
   "metadata": {},
   "source": [
    "- $X \\in \\mathbb R_{3\\times 4}$"
   ]
  },
  {
   "cell_type": "code",
   "execution_count": 5,
   "metadata": {},
   "outputs": [
    {
     "data": {
      "text/plain": [
       "array([[ 1.,  3.,  5.,  7.],\n",
       "       [-2.,  0.,  7.,  6.],\n",
       "       [-6., -1.,  0.,  3.]])"
      ]
     },
     "execution_count": 5,
     "metadata": {},
     "output_type": "execute_result"
    }
   ],
   "source": [
    "import numpy as np\n",
    "# creamos matriz a mano\n",
    "my_array = np.array([[1.,3.,5.,7.],\n",
    "                     [-2.,0.,7.,6.],\n",
    "                     [-6.,-1.,0.,3.]])\n",
    "my_array"
   ]
  },
  {
   "cell_type": "code",
   "execution_count": 7,
   "metadata": {},
   "outputs": [
    {
     "data": {
      "text/plain": [
       "array([[[ 1.,  3.,  5.,  7.],\n",
       "        [-2.,  0.,  7.,  6.],\n",
       "        [-6., -1.,  0.,  3.]],\n",
       "\n",
       "       [[ 2.,  4.,  6.,  8.],\n",
       "        [-1.,  1.,  8.,  7.],\n",
       "        [-5.,  0.,  1.,  4.]]])"
      ]
     },
     "execution_count": 7,
     "metadata": {},
     "output_type": "execute_result"
    }
   ],
   "source": [
    "x_vals = np.array([my_array, my_array+1])\n",
    "x_vals"
   ]
  },
  {
   "cell_type": "code",
   "execution_count": 8,
   "metadata": {},
   "outputs": [],
   "source": [
    "x_data = tf.placeholder(tf.float32, shape=(3,4))"
   ]
  },
  {
   "cell_type": "markdown",
   "metadata": {},
   "source": [
    "- $m_1 \\in \\mathbb R^4$\n",
    "- $m_2, a_1\\in \\mathbb R$"
   ]
  },
  {
   "cell_type": "code",
   "execution_count": 44,
   "metadata": {},
   "outputs": [],
   "source": [
    "# Todos los definimos como vectores\n",
    "m1 = tf.constant([[1.], [0.], [-2.],[5.]]) # vector en columnas, mismo numero col que la matriz definida\n",
    "m2 = tf.constant([[7.]])\n",
    "a1 = tf.constant([[15.]])"
   ]
  },
  {
   "cell_type": "markdown",
   "metadata": {},
   "source": [
    "$$[(X\\cdot m_1)\\cdot m_2]+a_1$$"
   ]
  },
  {
   "cell_type": "code",
   "execution_count": 45,
   "metadata": {},
   "outputs": [],
   "source": [
    "prod1 = tf.matmul(x_data, m1) # (X * m1) -> me va a devolver 1 valor por fila\n",
    "prod2 = tf.matmul(prod1, m2) # (X * m1) * m2\n",
    "add1 = tf.add(prod2, a1) # [(X * m1) * m2] + a1"
   ]
  },
  {
   "cell_type": "code",
   "execution_count": 46,
   "metadata": {},
   "outputs": [
    {
     "name": "stdout",
     "output_type": "stream",
     "text": [
      "\n",
      "(X * m1)\n",
      "\n",
      "[[26.]\n",
      " [14.]\n",
      " [ 9.]]\n",
      "[[30.]\n",
      " [18.]\n",
      " [13.]]\n",
      "\n",
      "(X * m1) * m2\n",
      "\n",
      "[[182.]\n",
      " [ 98.]\n",
      " [ 63.]]\n",
      "[[210.]\n",
      " [126.]\n",
      " [ 91.]]\n",
      "\n",
      "[(X * m1) * m2] + a1\n",
      "\n",
      "[[197.]\n",
      " [113.]\n",
      " [ 78.]]\n",
      "[[225.]\n",
      " [141.]\n",
      " [106.]]\n"
     ]
    }
   ],
   "source": [
    "print('\\n(X * m1)\\n')\n",
    "for x_val in x_vals:\n",
    "    print(session.run(prod1, feed_dict={x_data: x_val}))\n",
    "\n",
    "print('\\n(X * m1) * m2\\n')\n",
    "\n",
    "for x_val in x_vals:\n",
    "    print(session.run(prod2, feed_dict={x_data: x_val}))\n",
    "    \n",
    "print('\\n[(X * m1) * m2] + a1\\n')\n",
    "\n",
    "for x_val in x_vals:\n",
    "    print(session.run(add1, feed_dict={x_data: x_val}))"
   ]
  },
  {
   "cell_type": "code",
   "execution_count": null,
   "metadata": {},
   "outputs": [],
   "source": []
  }
 ],
 "metadata": {
  "kernelspec": {
   "display_name": "Python 3",
   "language": "python",
   "name": "python3"
  },
  "language_info": {
   "codemirror_mode": {
    "name": "ipython",
    "version": 3
   },
   "file_extension": ".py",
   "mimetype": "text/x-python",
   "name": "python",
   "nbconvert_exporter": "python",
   "pygments_lexer": "ipython3",
   "version": "3.7.6"
  }
 },
 "nbformat": 4,
 "nbformat_minor": 2
}
