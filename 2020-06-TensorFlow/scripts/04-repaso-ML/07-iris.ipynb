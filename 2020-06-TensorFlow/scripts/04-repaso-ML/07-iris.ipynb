{
 "cells": [
  {
   "cell_type": "markdown",
   "metadata": {},
   "source": [
    "# Clasificación de la especie *Iris Setosa*"
   ]
  },
  {
   "cell_type": "code",
   "execution_count": 1,
   "metadata": {},
   "outputs": [
    {
     "name": "stdout",
     "output_type": "stream",
     "text": [
      "WARNING:tensorflow:From c:\\users\\lncostam\\appdata\\local\\programs\\python\\python37\\lib\\site-packages\\tensorflow\\python\\compat\\v2_compat.py:96: disable_resource_variables (from tensorflow.python.ops.variable_scope) is deprecated and will be removed in a future version.\n",
      "Instructions for updating:\n",
      "non-resource variables are not supported in the long term\n"
     ]
    }
   ],
   "source": [
    "import matplotlib.pyplot as plt\n",
    "import numpy as np\n",
    "from sklearn import datasets\n",
    "#import tensorflow as tf\n",
    "\n",
    "# Para que funcione con la version 2 instalada\n",
    "import tensorflow.compat.v1 as tf\n",
    "tf.disable_v2_behavior()\n",
    "session = tf.Session()"
   ]
  },
  {
   "cell_type": "markdown",
   "metadata": {},
   "source": [
    "### Carga y manipulación de datos"
   ]
  },
  {
   "cell_type": "code",
   "execution_count": 2,
   "metadata": {},
   "outputs": [],
   "source": [
    "# Prediccion binaria, sera setosa o no\n",
    "iris = datasets.load_iris()\n",
    "binary_target = np.array([1.0 if x == 0 else 0.0 for x in iris.target])\n",
    "iris_2d = np.array([[x[2], x[3]] for x in iris.data])"
   ]
  },
  {
   "cell_type": "markdown",
   "metadata": {},
   "source": [
    "### Declarar variables"
   ]
  },
  {
   "cell_type": "code",
   "execution_count": 3,
   "metadata": {},
   "outputs": [],
   "source": [
    "# entrenamiento en bloques, mas seguro\n",
    "batch_size = 20\n",
    "x1_data = tf.placeholder(shape = [None, 1], dtype = tf.float32)\n",
    "x2_data = tf.placeholder(shape = [None, 1], dtype = tf.float32)\n",
    "y_target = tf.placeholder(shape = [None, 1], dtype = tf.float32)"
   ]
  },
  {
   "cell_type": "markdown",
   "metadata": {},
   "source": [
    "### Crear el modelo\n",
    "$$x_2 = Ax_1+b \\Rightarrow x_2-Ax_1-b=0$$"
   ]
  },
  {
   "cell_type": "code",
   "execution_count": 4,
   "metadata": {},
   "outputs": [],
   "source": [
    "# Debemos buscar la recta donde separa los valores\n",
    "A = tf.Variable(tf.random_normal(shape=[1,1]))\n",
    "b = tf.Variable(tf.random_normal(shape=[1,1]))"
   ]
  },
  {
   "cell_type": "code",
   "execution_count": 5,
   "metadata": {},
   "outputs": [],
   "source": [
    "my_mult = tf.matmul(x2_data, A) # x2 * A\n",
    "my_add = tf.add(my_mult, b) # (x2 * A) + b\n",
    "my_prediction = tf.subtract(x1_data, my_add) # x1 - ((x2 * A) + b)\n",
    "# La formula del modelo me daria la regresion pero yo quiero la perpendcularidad, eso me lo da la funcion x1 - ((x2 * A) + b)"
   ]
  },
  {
   "cell_type": "markdown",
   "metadata": {},
   "source": [
    "### Función de pérdidas y propagación hacia atrás"
   ]
  },
  {
   "cell_type": "code",
   "execution_count": 6,
   "metadata": {},
   "outputs": [],
   "source": [
    "xentropy = tf.nn.sigmoid_cross_entropy_with_logits(logits=my_prediction, labels=y_target)\n",
    "my_optimizer = tf.train.GradientDescentOptimizer(learning_rate=0.05)\n",
    "train_step = my_optimizer.minimize(xentropy)"
   ]
  },
  {
   "cell_type": "markdown",
   "metadata": {},
   "source": [
    "### Inicializar las variables"
   ]
  },
  {
   "cell_type": "code",
   "execution_count": 7,
   "metadata": {},
   "outputs": [],
   "source": [
    "init = tf.global_variables_initializer()\n",
    "session.run(init)"
   ]
  },
  {
   "cell_type": "markdown",
   "metadata": {},
   "source": [
    "## Entrenar el modelo"
   ]
  },
  {
   "cell_type": "code",
   "execution_count": 8,
   "metadata": {},
   "outputs": [
    {
     "name": "stdout",
     "output_type": "stream",
     "text": [
      "Paso #100, A=[[7.2457952]], b =[[-2.3554251]]\n",
      "Paso #200, A=[[8.704183]], b =[[-3.364027]]\n",
      "Paso #300, A=[[9.415632]], b =[[-4.2912197]]\n",
      "Paso #400, A=[[10.130363]], b =[[-4.6892395]]\n",
      "Paso #500, A=[[10.683977]], b =[[-5.0153623]]\n",
      "Paso #600, A=[[11.1353]], b =[[-5.2545605]]\n",
      "Paso #700, A=[[11.510518]], b =[[-5.5162506]]\n",
      "Paso #800, A=[[11.703469]], b =[[-5.9803843]]\n",
      "Paso #900, A=[[12.04946]], b =[[-6.147232]]\n",
      "Paso #1000, A=[[12.351906]], b =[[-6.2978964]]\n"
     ]
    }
   ],
   "source": [
    "for i in range(1000):\n",
    "    rand_idx = np.random.choice(len(iris_2d), size=batch_size)\n",
    "    rand_x = iris_2d[rand_idx]\n",
    "    rand_x1 = np.array([[x[0]] for x in rand_x])\n",
    "    rand_x2 = np.array([[x[1]] for x in rand_x])\n",
    "    rand_y = np.array([[y] for y in binary_target[rand_idx]])\n",
    "    session.run(train_step, feed_dict={x1_data:rand_x1, x2_data:rand_x2, y_target:rand_y})\n",
    "    if(i+1)%100==0:\n",
    "        print('Paso #'+str(i+1)+\", A=\"+str(session.run(A))+\", b =\"+str(session.run(b)))"
   ]
  },
  {
   "cell_type": "markdown",
   "metadata": {},
   "source": [
    "### Modelo final"
   ]
  },
  {
   "cell_type": "code",
   "execution_count": 9,
   "metadata": {},
   "outputs": [],
   "source": [
    "[[slope]] = session.run(A) # Genero doble corchete porque A es un Tensor (tiene doble corchete)\n",
    "[[intercept]] = session.run(b)"
   ]
  },
  {
   "cell_type": "markdown",
   "metadata": {},
   "source": [
    "#### Representación de la separación"
   ]
  },
  {
   "cell_type": "code",
   "execution_count": 10,
   "metadata": {},
   "outputs": [],
   "source": [
    "x = np.linspace(0,3,num = 100)\n",
    "abline_values = []\n",
    "for i in x:\n",
    "    abline_values.append(slope*i+intercept)\n",
    "    \n",
    "setosa_x = [a[1] for i,a in enumerate(iris_2d) if binary_target[i]==1]\n",
    "setosa_y = [a[0] for i,a in enumerate(iris_2d) if binary_target[i]==1]\n",
    "\n",
    "no_setosa_x = [a[1] for i,a in enumerate(iris_2d) if binary_target[i]==0]\n",
    "no_setosa_y = [a[0] for i,a in enumerate(iris_2d) if binary_target[i]==0]"
   ]
  },
  {
   "cell_type": "code",
   "execution_count": 11,
   "metadata": {},
   "outputs": [
    {
     "data": {
      "image/png": "[encoded data removed]",
      "text/plain": [
       "<Figure size 432x288 with 1 Axes>"
      ]
     },
     "metadata": {
      "needs_background": "light"
     },
     "output_type": "display_data"
    }
   ],
   "source": [
    "plt.plot(setosa_x, setosa_y, 'rx', ms=10, mew=2, label='Setosa')\n",
    "plt.plot(no_setosa_x, no_setosa_y, 'ro', label = \"No setosa\")\n",
    "plt.plot(x, abline_values, 'b-')\n",
    "plt.suptitle('Separación lineal de las Setosas', fontsize = 18)\n",
    "plt.xlabel(\"Longitud de los Pétalos\")\n",
    "plt.ylabel(\"Anchura de los Pétalos\")\n",
    "plt.legend(\"lower right\")\n",
    "plt.xlim([0,2.75])\n",
    "plt.ylim([0, 7.5])\n",
    "plt.show()\n",
    "\n",
    "# Luego estaremos utilizando SVM que es mucho mejor para separar 2 clases en funcion de un rasgo"
   ]
  },
  {
   "cell_type": "code",
   "execution_count": null,
   "metadata": {},
   "outputs": [],
   "source": []
  }
 ],
 "metadata": {
  "kernelspec": {
   "display_name": "Python 3",
   "language": "python",
   "name": "python3"
  },
  "language_info": {
   "codemirror_mode": {
    "name": "ipython",
    "version": 3
   },
   "file_extension": ".py",
   "mimetype": "text/x-python",
   "name": "python",
   "nbconvert_exporter": "python",
   "pygments_lexer": "ipython3",
   "version": "3.7.6"
  }
 },
 "nbformat": 4,
 "nbformat_minor": 2
}
