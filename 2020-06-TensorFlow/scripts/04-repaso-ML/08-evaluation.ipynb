{
 "cells": [
  {
   "cell_type": "markdown",
   "metadata": {},
   "source": [
    "# Evaluar el modelo"
   ]
  },
  {
   "cell_type": "code",
   "execution_count": 2,
   "metadata": {},
   "outputs": [
    {
     "name": "stdout",
     "output_type": "stream",
     "text": [
      "WARNING:tensorflow:From /home/ncostamagna/anaconda3/lib/python3.8/site-packages/tensorflow/python/compat/v2_compat.py:96: disable_resource_variables (from tensorflow.python.ops.variable_scope) is deprecated and will be removed in a future version.\n",
      "Instructions for updating:\n",
      "non-resource variables are not supported in the long term\n"
     ]
    }
   ],
   "source": [
    "import matplotlib.pyplot as plt\n",
    "import numpy as np\n",
    "\n",
    "#import tensorflow as tf\n",
    "# Para que funcione con la version 2 instalada\n",
    "import tensorflow.compat.v1 as tf\n",
    "tf.disable_v2_behavior()\n",
    "\n",
    "session = tf.Session()"
   ]
  },
  {
   "cell_type": "markdown",
   "metadata": {},
   "source": [
    "### Caso de regresión"
   ]
  },
  {
   "cell_type": "code",
   "execution_count": 4,
   "metadata": {},
   "outputs": [],
   "source": [
    "x_vals = np.random.normal(1.0, 0.1, 200)\n",
    "y_vals = np.repeat(10.0, 200)\n",
    "\n",
    "x_data = tf.placeholder(shape = [None, 1], dtype = tf.float32)\n",
    "y_target = tf.placeholder(shape = [None, 1], dtype = tf.float32)\n",
    "\n",
    "batch_size = 25"
   ]
  },
  {
   "cell_type": "code",
   "execution_count": 6,
   "metadata": {},
   "outputs": [],
   "source": [
    "# Separo los datos, obtengo el %80 de los datos\n",
    "train_idx = np.random.choice(len(x_vals), size=round(len(x_vals)*0.8),replace=False) # rep=F->Que los datos no esten repetidos"
   ]
  },
  {
   "cell_type": "code",
   "execution_count": 7,
   "metadata": {},
   "outputs": [
    {
     "data": {
      "text/plain": [
       "array([194,  22,  68, 126,   2,   9, 144, 103, 181,  46, 132,  20, 128,\n",
       "       188, 166,  59,  93, 173,  88,  87,  24,  25, 164,  85, 100, 148,\n",
       "        14,   8, 102, 113, 147, 120,  44,  34, 180,  61, 187,  10, 171,\n",
       "        89,  18, 140, 146,  79,  71, 189, 154, 137, 163, 135,  16, 156,\n",
       "        37,  17, 109, 177, 191,  96,  92,   1,  45,  32,  51, 165,   3,\n",
       "        98,  97,  48, 186, 170, 168, 121, 153,  35,  11,  13, 175,  39,\n",
       "       172,  36,  78,  49,  27, 145, 162, 110,   4, 142,  82,  55, 149,\n",
       "       141, 123,  29, 184, 192, 159,  15, 176,  95, 117, 150, 174, 182,\n",
       "       178, 197, 185,  64, 138,  26, 131, 106, 111, 157,  43,  91, 129,\n",
       "       116,  84,  33, 155, 130, 122,  54, 183, 101,  75, 139,  99, 152,\n",
       "       151, 115,  38, 118, 124, 198,  73, 108, 127, 193,  69, 134,  66,\n",
       "        21,  80,  28,  81,  23, 196,  50, 107, 136,  62, 190, 167,  65,\n",
       "        74,  86,  19, 161])"
      ]
     },
     "execution_count": 7,
     "metadata": {},
     "output_type": "execute_result"
    }
   ],
   "source": [
    "train_idx"
   ]
  },
  {
   "cell_type": "code",
   "execution_count": 8,
   "metadata": {},
   "outputs": [],
   "source": [
    "# Todos los originales salvo los que he usado para entrenar\n",
    "test_idx = np.array(list(set(range(len(x_vals)))-set(train_idx)))"
   ]
  },
  {
   "cell_type": "code",
   "execution_count": 9,
   "metadata": {},
   "outputs": [
    {
     "data": {
      "text/plain": [
       "array([  0,   5,   6,   7, 133,  12, 143,  30,  31, 158, 160,  40,  41,\n",
       "        42, 169,  47, 179,  52,  53,  56,  57,  58,  60,  63,  67, 195,\n",
       "        70, 199,  72,  76,  77,  83,  90,  94, 104, 105, 112, 114, 119,\n",
       "       125])"
      ]
     },
     "execution_count": 9,
     "metadata": {},
     "output_type": "execute_result"
    }
   ],
   "source": [
    "test_idx"
   ]
  },
  {
   "cell_type": "code",
   "execution_count": 11,
   "metadata": {},
   "outputs": [],
   "source": [
    "x_vals_train = x_vals[train_idx]\n",
    "x_vals_test = x_vals[test_idx]\n",
    "y_vals_train = y_vals[train_idx]\n",
    "y_vals_test = y_vals[test_idx]\n",
    "A = tf.Variable(tf.random_normal(shape=[1,1]))"
   ]
  },
  {
   "cell_type": "code",
   "execution_count": 12,
   "metadata": {},
   "outputs": [],
   "source": [
    "my_prediction = tf.matmul(x_data, A) # x * A\n",
    "loss = tf.reduce_mean(tf.square(my_prediction-y_target)) # media{[(x * A)-y]^2}\n",
    "# Media porque estoy usando un entrenamiento por bloques\n",
    "\n",
    "my_optim = tf.train.GradientDescentOptimizer(learning_rate=0.02)\n",
    "train_step = my_optim.minimize(loss)\n",
    "init = tf.global_variables_initializer()\n",
    "session.run(init)"
   ]
  },
  {
   "cell_type": "code",
   "execution_count": 13,
   "metadata": {},
   "outputs": [
    {
     "name": "stdout",
     "output_type": "stream",
     "text": [
      "Paso #20, A=[[5.728388]], Loss =19.447838\n",
      "Paso #40, A=[[8.077628]], Loss =4.2627354\n",
      "Paso #60, A=[[9.045555]], Loss =1.5435601\n",
      "Paso #80, A=[[9.524061]], Loss =0.9467378\n",
      "Paso #100, A=[[9.742328]], Loss =0.9519158\n",
      "Paso #120, A=[[9.834223]], Loss =0.7913941\n",
      "Paso #140, A=[[9.886538]], Loss =0.51199704\n",
      "Paso #160, A=[[9.90161]], Loss =0.9487323\n",
      "Paso #180, A=[[9.841468]], Loss =0.80066454\n",
      "Paso #200, A=[[9.850262]], Loss =0.69994813\n"
     ]
    }
   ],
   "source": [
    "for i in range(200):\n",
    "    rand_idx = np.random.choice(len(x_vals_train), size=batch_size)\n",
    "    rand_x = np.transpose([x_vals_train[rand_idx]])\n",
    "    rand_y = np.transpose([y_vals_train[rand_idx]])\n",
    "    session.run(train_step, feed_dict={x_data : rand_x, y_target: rand_y})\n",
    "    if (i+1)%20==0:\n",
    "        print('Paso #'+str(i+1)+ \", A=\"+str(session.run(A))+\", Loss =\"+\n",
    "              str(session.run(loss, feed_dict={x_data:rand_x, y_target:rand_y})))"
   ]
  },
  {
   "cell_type": "markdown",
   "metadata": {},
   "source": [
    "#### Evaluación del modelo con MSE"
   ]
  },
  {
   "cell_type": "code",
   "execution_count": 14,
   "metadata": {},
   "outputs": [
    {
     "name": "stdout",
     "output_type": "stream",
     "text": [
      "MSE en el conjunto de entrenamiento 0.907\n",
      "MSE en el conjunto de testing 1.193\n"
     ]
    }
   ],
   "source": [
    "# Evaluacion del modelo, R cuadrado de error\n",
    "\n",
    "# R^2 medio para los datos de entrenamiento\n",
    "mse_train = session.run(loss, feed_dict={x_data: np.transpose([x_vals_train]), y_target: np.transpose([y_vals_train])})\n",
    "\n",
    "# R^2 medio para los datos de prueba\n",
    "mse_test = session.run(loss, feed_dict={x_data: np.transpose([x_vals_test]), y_target: np.transpose([y_vals_test])})\n",
    "\n",
    "# Logicamente va a tirar un valor minimo y mejor el conjuno de entrenamiento,\n",
    "# el modelo se ha entrenado con esos datos\n",
    "# en cambio los datos de test es la primera vez que los ve\n",
    "# cero siempre es el mejor valor\n",
    "print(\"MSE en el conjunto de entrenamiento \"+str(np.round(mse_train, 3))) # me equivoco 0.9 arriba o abajo del conjuto de datos\n",
    "print(\"MSE en el conjunto de testing \"+str(np.round(mse_test, 3))) # me equivoco 1.2 arriba o abajo del conjuto de datos"
   ]
  },
  {
   "cell_type": "markdown",
   "metadata": {},
   "source": [
    "### Caso de clasificación"
   ]
  },
  {
   "cell_type": "code",
   "execution_count": 3,
   "metadata": {},
   "outputs": [],
   "source": [
    "from tensorflow.python.framework import ops\n",
    "ops.reset_default_graph()\n",
    "session = tf.Session()"
   ]
  },
  {
   "cell_type": "code",
   "execution_count": 4,
   "metadata": {},
   "outputs": [],
   "source": [
    "batch_size = 25\n",
    "x_vals = np.concatenate((np.random.normal(-2,1,100), np.random.normal(2,1,100)))\n",
    "y_vals = np.concatenate((np.repeat(0.0, 100), np.repeat(1.0,100)))\n",
    "\n",
    "x_data = tf.placeholder(shape=[1,None], dtype=tf.float32)\n",
    "y_target = tf.placeholder(shape=[1,None], dtype = tf.float32) # variable que quiero predecir"
   ]
  },
  {
   "cell_type": "code",
   "execution_count": 5,
   "metadata": {},
   "outputs": [],
   "source": [
    "train_idx = np.random.choice(len(x_vals), size=round(len(x_vals)*0.8), replace=False)\n",
    "test_idx = np.array(list(set(range(len(x_vals)))-set(train_idx)))"
   ]
  },
  {
   "cell_type": "code",
   "execution_count": 6,
   "metadata": {},
   "outputs": [],
   "source": [
    "# definimos valores de entrenamiento y de evaluacion\n",
    "x_vals_train = x_vals[train_idx]\n",
    "x_vals_test = x_vals[test_idx]\n",
    "y_vals_train = y_vals[train_idx]\n",
    "y_vals_test = y_vals[test_idx]\n",
    "A = tf.Variable(tf.random_normal(mean=10, shape=[1]))"
   ]
  },
  {
   "cell_type": "code",
   "execution_count": 7,
   "metadata": {},
   "outputs": [],
   "source": [
    "my_prediction = tf.add(x_data, A)\n",
    "init = tf.global_variables_initializer()\n",
    "session.run(init)"
   ]
  },
  {
   "cell_type": "code",
   "execution_count": 8,
   "metadata": {},
   "outputs": [],
   "source": [
    "xentropy = tf.reduce_mean(tf.nn.sigmoid_cross_entropy_with_logits(logits=my_prediction, labels=y_target))\n",
    "my_optim = tf.train.GradientDescentOptimizer(learning_rate=0.05)\n",
    "train_step = my_optim.minimize(xentropy)"
   ]
  },
  {
   "cell_type": "code",
   "execution_count": 9,
   "metadata": {},
   "outputs": [
    {
     "name": "stdout",
     "output_type": "stream",
     "text": [
      "Paso #100, A = [8.001787]Loss = 3.0112307\n",
      "Paso #200, A = [5.536471]Loss = 1.5443978\n",
      "Paso #300, A = [3.3923032]Loss = 1.0396466\n",
      "Paso #400, A = [1.8814971]Loss = 0.48212796\n",
      "Paso #500, A = [1.0808771]Loss = 0.15162057\n",
      "Paso #600, A = [0.6108774]Loss = 0.16501684\n",
      "Paso #700, A = [0.34649146]Loss = 0.19005133\n",
      "Paso #800, A = [0.18429197]Loss = 0.21039425\n",
      "Paso #900, A = [0.08938137]Loss = 0.11071829\n",
      "Paso #1000, A = [0.04381103]Loss = 0.17865905\n",
      "Paso #1100, A = [0.03315266]Loss = 0.24500513\n",
      "Paso #1200, A = [0.01190491]Loss = 0.2307674\n",
      "Paso #1300, A = [-0.00117244]Loss = 0.14828745\n",
      "Paso #1400, A = [0.02654398]Loss = 0.17797953\n",
      "Paso #1500, A = [0.03554539]Loss = 0.24828573\n",
      "Paso #1600, A = [0.01818659]Loss = 0.14414352\n",
      "Paso #1700, A = [0.00660027]Loss = 0.13795623\n",
      "Paso #1800, A = [-0.00921775]Loss = 0.1627726\n",
      "Paso #1900, A = [0.0144139]Loss = 0.17430018\n",
      "Paso #2000, A = [0.03110586]Loss = 0.2053569\n"
     ]
    }
   ],
   "source": [
    "for i in range(2000):\n",
    "    rand_idx = np.random.choice(len(x_vals_train), size=batch_size)\n",
    "    rand_x = [x_vals_train[rand_idx]]\n",
    "    rand_y = [y_vals_train[rand_idx]]\n",
    "    session.run(train_step, feed_dict={x_data:rand_x, y_target:rand_y})\n",
    "    if(i+1)%100==0:\n",
    "        print(\"Paso #\"+str(i+1)+\", A = \"+str(session.run(A))+\n",
    "             \"Loss = \"+str(session.run(xentropy, feed_dict={x_data: rand_x, y_target:rand_y})))"
   ]
  },
  {
   "cell_type": "markdown",
   "metadata": {},
   "source": [
    "#### Evaluar el modelo con la precisión (Accuracy)"
   ]
  },
  {
   "cell_type": "code",
   "execution_count": 10,
   "metadata": {},
   "outputs": [],
   "source": [
    "y_prediction = tf.squeeze(tf.round(tf.nn.sigmoid(tf.add(x_data, A))))\n",
    "correct_prediction = tf.equal(y_prediction, y_target)\n",
    "accuracy = tf.reduce_mean(tf.cast(correct_prediction, tf.float32))"
   ]
  },
  {
   "cell_type": "code",
   "execution_count": 11,
   "metadata": {},
   "outputs": [],
   "source": [
    "acc_train = session.run(accuracy, feed_dict={x_data:[x_vals_train], y_target: [y_vals_train]})\n",
    "acc_test = session.run(accuracy, feed_dict={x_data:[x_vals_test], y_target: [y_vals_test]})"
   ]
  },
  {
   "cell_type": "code",
   "execution_count": 12,
   "metadata": {},
   "outputs": [
    {
     "name": "stdout",
     "output_type": "stream",
     "text": [
      "Precisión en el conjunto de entrenamiento: 0.975\n",
      "Precisión en el conjunto de testing: 1.0\n"
     ]
    }
   ],
   "source": [
    "print(\"Precisión en el conjunto de entrenamiento: \"+str(acc_train))\n",
    "print(\"Precisión en el conjunto de testing: \"+ str(acc_test))"
   ]
  },
  {
   "cell_type": "markdown",
   "metadata": {},
   "source": [
    "#### Visualización de los modelos"
   ]
  },
  {
   "cell_type": "code",
   "execution_count": 13,
   "metadata": {},
   "outputs": [
    {
     "data": {
      "text/plain": [
       "array([0.03110586], dtype=float32)"
      ]
     },
     "execution_count": 13,
     "metadata": {},
     "output_type": "execute_result"
    }
   ],
   "source": [
    "A_result = session.run(A)\n",
    "A_result"
   ]
  },
  {
   "cell_type": "code",
   "execution_count": 14,
   "metadata": {},
   "outputs": [
    {
     "data": {
      "image/png": "[encoded data removed]",
      "text/plain": [
       "<Figure size 432x288 with 1 Axes>"
      ]
     },
     "metadata": {
      "needs_background": "light"
     },
     "output_type": "display_data"
    }
   ],
   "source": [
    "bins = np.linspace(-5,5,50)\n",
    "plt.hist(x_vals[0:100], bins, alpha=0.5, label = \"N(-2,1)\", color=\"red\")\n",
    "plt.hist(x_vals[100:200], bins, alpha=0.5, label=\"N(2,1)\", color=\"yellow\")\n",
    "plt.plot((A_result, A_result), (0, 10), \"k--\", linewidth = 4, label = \"A \"+str(np.round(A_result,2)))\n",
    "plt.legend(loc=\"upper right\")\n",
    "plt.title(\"Clasificador Binario de Precisión \"+str(np.round(acc_train,2)))\n",
    "plt.show()"
   ]
  },
  {
   "cell_type": "code",
   "execution_count": null,
   "metadata": {},
   "outputs": [],
   "source": []
  }
 ],
 "metadata": {
  "kernelspec": {
   "display_name": "Python 3",
   "language": "python",
   "name": "python3"
  },
  "language_info": {
   "codemirror_mode": {
    "name": "ipython",
    "version": 3
   },
   "file_extension": ".py",
   "mimetype": "text/x-python",
   "name": "python",
   "nbconvert_exporter": "python",
   "pygments_lexer": "ipython3",
   "version": "3.8.3"
  }
 },
 "nbformat": 4,
 "nbformat_minor": 2
}
