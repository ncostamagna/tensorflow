{
 "cells": [
  {
   "cell_type": "markdown",
   "metadata": {},
   "source": [
    "# Elastic Net"
   ]
  },
  {
   "cell_type": "code",
   "execution_count": 3,
   "metadata": {},
   "outputs": [],
   "source": [
    "import matplotlib.pyplot as plt\n",
    "import numpy as np\n",
    "#import tensorflow as tf\n",
    "# Para que funcione con la version 2 instalada\n",
    "import tensorflow.compat.v1 as tf\n",
    "tf.disable_v2_behavior()\n",
    "from sklearn import datasets\n",
    "session = tf.Session()\n",
    "iris = datasets.load_iris()"
   ]
  },
  {
   "cell_type": "code",
   "execution_count": 4,
   "metadata": {},
   "outputs": [],
   "source": [
    "x_vals = np.array([[x[1], x[2], x[3]] for x in iris.data])\n",
    "y_vals = np.array([x[0] for x in iris.data])"
   ]
  },
  {
   "cell_type": "markdown",
   "metadata": {},
   "source": [
    "- $x\\in\\mathbb R^3$\n",
    "- $A \\in \\mathbb R_{3\\times 1}$\n",
    "- $y = Ax+b\\in \\mathbb R$"
   ]
  },
  {
   "cell_type": "code",
   "execution_count": 5,
   "metadata": {},
   "outputs": [],
   "source": [
    "batch_size = 50\n",
    "learning_rate = 0.001\n",
    "x_data = tf.placeholder(shape=[None, 3], dtype = tf.float32)\n",
    "y_target = tf.placeholder(shape = [None, 1], dtype = tf.float32)\n",
    "A = tf.Variable(tf.random_normal(shape = [3,1]))\n",
    "b = tf.Variable(tf.random_normal(shape = [1,1]))\n",
    "y_pred = tf.add(tf.matmul(x_data, A), b)"
   ]
  },
  {
   "cell_type": "markdown",
   "metadata": {},
   "source": [
    "$$Loss = \\sum\\frac{(y_r-y_p)^2}{n} + \\alpha \\cdot |A| + \\beta \\cdot A^2$$"
   ]
  },
  {
   "cell_type": "code",
   "execution_count": 6,
   "metadata": {},
   "outputs": [],
   "source": [
    "elastic_param1 = tf.constant(1.0)\n",
    "elastic_param2 = tf.constant(1.0)\n",
    "l1_a_loss = tf.reduce_mean(tf.abs(A))\n",
    "l2_a_loss = tf.reduce_mean(tf.square(A))\n",
    "e1_term = tf.multiply(elastic_param1, l1_a_loss)\n",
    "e2_term = tf.multiply(elastic_param2, l2_a_loss)\n",
    "loss = tf.expand_dims(tf.add(tf.add(tf.reduce_mean(tf.square(y_target- y_pred)),e1_term), e2_term), 0)"
   ]
  },
  {
   "cell_type": "code",
   "execution_count": 7,
   "metadata": {},
   "outputs": [],
   "source": [
    "init = tf.global_variables_initializer()\n",
    "session.run(init)"
   ]
  },
  {
   "cell_type": "code",
   "execution_count": 8,
   "metadata": {},
   "outputs": [],
   "source": [
    "my_opt = tf.train.GradientDescentOptimizer(learning_rate=learning_rate)\n",
    "train_step = my_opt.minimize(loss)"
   ]
  },
  {
   "cell_type": "code",
   "execution_count": 9,
   "metadata": {},
   "outputs": [
    {
     "name": "stdout",
     "output_type": "stream",
     "text": [
      "Paso #100A = [[0.59768355]\n",
      " [0.20571941]\n",
      " [1.4388403 ]], b = [[1.20188]]Loss: [2.2707915]\n",
      "Paso #200A = [[0.7006022 ]\n",
      " [0.18488611]\n",
      " [1.2896985 ]], b = [[1.2561023]]Loss: [1.8741556]\n",
      "Paso #300A = [[0.7518515 ]\n",
      " [0.17532717]\n",
      " [1.1584826 ]], b = [[1.2981927]]Loss: [1.7835793]\n",
      "Paso #400A = [[0.78387827]\n",
      " [0.18264863]\n",
      " [1.0454688 ]], b = [[1.3360004]]Loss: [1.5751052]\n",
      "Paso #500A = [[0.7969777 ]\n",
      " [0.19347255]\n",
      " [0.94353026]], b = [[1.3692131]]Loss: [1.4321346]\n",
      "Paso #600A = [[0.80546767]\n",
      " [0.2149403 ]\n",
      " [0.8541034 ]], b = [[1.401444]]Loss: [1.3535348]\n",
      "Paso #700A = [[0.8035902]\n",
      " [0.2339896]\n",
      " [0.771857 ]], b = [[1.4306599]]Loss: [1.2493165]\n",
      "Paso #800A = [[0.79938906]\n",
      " [0.2566937 ]\n",
      " [0.6980414 ]], b = [[1.4592898]]Loss: [1.1749358]\n",
      "Paso #900A = [[0.79165924]\n",
      " [0.27525353]\n",
      " [0.6285965 ]], b = [[1.486578]]Loss: [1.0896347]\n",
      "Paso #1000A = [[0.78290623]\n",
      " [0.30000737]\n",
      " [0.5674385 ]], b = [[1.5137708]]Loss: [1.0690874]\n"
     ]
    }
   ],
   "source": [
    "loss_vec = []\n",
    "for i in range(1000):\n",
    "    rand_idx = np.random.choice(len(x_vals), size=batch_size)\n",
    "    rand_x = x_vals[rand_idx]\n",
    "    rand_y = np.transpose([y_vals[rand_idx]])\n",
    "    session.run(train_step, feed_dict={x_data : rand_x, y_target: rand_y})\n",
    "    temp_loss = session.run(loss, feed_dict={x_data: rand_x, y_target: rand_y})\n",
    "    loss_vec.append(temp_loss[0])\n",
    "    if(i+1)%100==0:\n",
    "        print(\"Paso #\"+str(i+1)+\"A = \"+str(session.run(A))+\", b = \"+str(session.run(b))+\n",
    "             \"Loss: \"+str(temp_loss))"
   ]
  },
  {
   "cell_type": "code",
   "execution_count": 10,
   "metadata": {},
   "outputs": [
    {
     "name": "stdout",
     "output_type": "stream",
     "text": [
      "y=0.78290623x1+0.30000737x2+0.5674385x3+1.5137708\n"
     ]
    }
   ],
   "source": [
    "slope = session.run(A)\n",
    "[[intercept]] = session.run(b)\n",
    "print(\"y=\"+str(slope[0][0])+\"x1+\"+str(slope[1][0])+\"x2+\"+str(slope[2][0])+\"x3+\"+str(intercept))"
   ]
  },
  {
   "cell_type": "code",
   "execution_count": 11,
   "metadata": {},
   "outputs": [
    {
     "data": {
      "image/png": "[encoded data removed]",
      "text/plain": [
       "<Figure size 432x288 with 1 Axes>"
      ]
     },
     "metadata": {
      "needs_background": "light"
     },
     "output_type": "display_data"
    }
   ],
   "source": [
    "plt.plot(loss_vec, 'k-')\n",
    "plt.title(\"Regresión de la Red Elástica\")\n",
    "plt.xlabel(\"Iteración\")\n",
    "plt.ylabel(\"Pérdida\")\n",
    "plt.show()"
   ]
  },
  {
   "cell_type": "code",
   "execution_count": null,
   "metadata": {},
   "outputs": [],
   "source": []
  }
 ],
 "metadata": {
  "kernelspec": {
   "display_name": "Python 3",
   "language": "python",
   "name": "python3"
  },
  "language_info": {
   "codemirror_mode": {
    "name": "ipython",
    "version": 3
   },
   "file_extension": ".py",
   "mimetype": "text/x-python",
   "name": "python",
   "nbconvert_exporter": "python",
   "pygments_lexer": "ipython3",
   "version": "3.8.3"
  }
 },
 "nbformat": 4,
 "nbformat_minor": 2
}
